{
 "cells": [
  {
   "cell_type": "markdown",
   "metadata": {},
   "source": [
    "### Tweet Scraper\n",
    "\n",
    "With the use of this script I'm scraping most recent 4000 tweets on one day, that pop up while searching the keywords \"<b>armenia</b>\" and \"<b>azerbaijan</b>\", and 1700 most recent tweets the other day using the same keywords. (by term \"most recent\" I mean most recent at the time of running this script)<br>\n",
    "4000 tweets were used to build a train database, 1700 to build test database.<br>\n",
    "\n",
    "I did not apply any sophisticated filters on the search engine, so I got various results - most of them were marked by the tag RT (retweet), what wasn't as unhandy as you could imagine, as I cleaned the data quite extensively in further steps."
   ]
  },
  {
   "cell_type": "code",
   "execution_count": 1,
   "metadata": {},
   "outputs": [],
   "source": [
    "import tweepy\n",
    "import pandas as pd\n",
    "import time\n",
    "import os"
   ]
  },
  {
   "cell_type": "code",
   "execution_count": 22,
   "metadata": {},
   "outputs": [],
   "source": [
    "consumer_key = os.environ[\"CONSUMER_KEY\"]\n",
    "consumer_secret = os.environ[\"CONSUMER_SECRET\"]\n",
    "access_token = os.environ[\"ACCESS_TOKEN\"]\n",
    "access_token_secret = os.environ[\"ACCESS_TOKEN_SECRET\"]"
   ]
  },
  {
   "cell_type": "code",
   "execution_count": 23,
   "metadata": {},
   "outputs": [],
   "source": [
    "auth = tweepy.OAuthHandler(consumer_key, consumer_secret)\n",
    "auth.set_access_token(access_token, access_token_secret)\n",
    "api = tweepy.API(auth, wait_on_rate_limit=True)"
   ]
  },
  {
   "cell_type": "code",
   "execution_count": 24,
   "metadata": {},
   "outputs": [],
   "source": [
    "tweets = []\n",
    "\n",
    "def tweet_to_csv(text, count):\n",
    "    try:\n",
    "        tweets = tweepy.Cursor(api.search, q=text).items(count)\n",
    "\n",
    "        tweets_list = [[tweet.created_at, tweet.id, tweet.text] for tweet in tweets]\n",
    "\n",
    "        tweets_df = pd.DataFrame(tweets_list, columns=['Datetime', 'ID', 'Text'])\n",
    "\n",
    "        tweets_df.to_csv('{}-tweets.csv'.format(text), sep=',', index=False)\n",
    "    \n",
    "    except BaseException as e:\n",
    "        print('Failed on-status', str(e))\n",
    "        time.sleep(3)"
   ]
  },
  {
   "cell_type": "code",
   "execution_count": 13,
   "metadata": {},
   "outputs": [],
   "source": [
    "text = 'armenia'\n",
    "count=4000\n",
    "\n",
    "tweet_to_csv(text,count)"
   ]
  },
  {
   "cell_type": "code",
   "execution_count": 14,
   "metadata": {},
   "outputs": [],
   "source": [
    "text = 'azerbaijan'\n",
    "count=4000\n",
    "tweet_to_csv(text, count)"
   ]
  }
 ],
 "metadata": {
  "kernelspec": {
   "display_name": "Python 3",
   "language": "python",
   "name": "python3"
  },
  "language_info": {
   "codemirror_mode": {
    "name": "ipython",
    "version": 3
   },
   "file_extension": ".py",
   "mimetype": "text/x-python",
   "name": "python",
   "nbconvert_exporter": "python",
   "pygments_lexer": "ipython3",
   "version": "3.7.6"
  }
 },
 "nbformat": 4,
 "nbformat_minor": 4
}
